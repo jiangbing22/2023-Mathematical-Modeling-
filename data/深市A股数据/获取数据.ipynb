{
 "cells": [
  {
   "cell_type": "code",
   "execution_count": 29,
   "metadata": {},
   "outputs": [
    {
     "data": {
      "text/html": [
       "<pre style=\"white-space:pre;overflow-x:auto;line-height:normal;font-family:Menlo,'DejaVu Sans Mono',consolas,'Courier New',monospace\">证券代码 <span style=\"color: #008000; text-decoration-color: #008000\">\"000087\"</span> 可能有误\n",
       "</pre>\n"
      ],
      "text/plain": [
       "证券代码 \u001b[32m\"000087\"\u001b[0m 可能有误\n"
      ]
     },
     "metadata": {},
     "output_type": "display_data"
    },
    {
     "data": {
      "text/html": [
       "<pre style=\"white-space:pre;overflow-x:auto;line-height:normal;font-family:Menlo,'DejaVu Sans Mono',consolas,'Courier New',monospace\">证券代码 <span style=\"color: #008000; text-decoration-color: #008000\">\"000144\"</span> 可能有误\n",
       "</pre>\n"
      ],
      "text/plain": [
       "证券代码 \u001b[32m\"000144\"\u001b[0m 可能有误\n"
      ]
     },
     "metadata": {},
     "output_type": "display_data"
    },
    {
     "data": {
      "text/html": [
       "<pre style=\"white-space:pre;overflow-x:auto;line-height:normal;font-family:Menlo,'DejaVu Sans Mono',consolas,'Courier New',monospace\">证券代码 <span style=\"color: #008000; text-decoration-color: #008000\">\"000163\"</span> 可能有误\n",
       "</pre>\n"
      ],
      "text/plain": [
       "证券代码 \u001b[32m\"000163\"\u001b[0m 可能有误\n"
      ]
     },
     "metadata": {},
     "output_type": "display_data"
    },
    {
     "data": {
      "text/html": [
       "<pre style=\"white-space:pre;overflow-x:auto;line-height:normal;font-family:Menlo,'DejaVu Sans Mono',consolas,'Courier New',monospace\">证券代码 <span style=\"color: #008000; text-decoration-color: #008000\">\"000168\"</span> 可能有误\n",
       "</pre>\n"
      ],
      "text/plain": [
       "证券代码 \u001b[32m\"000168\"\u001b[0m 可能有误\n"
      ]
     },
     "metadata": {},
     "output_type": "display_data"
    },
    {
     "data": {
      "text/html": [
       "<pre style=\"white-space:pre;overflow-x:auto;line-height:normal;font-family:Menlo,'DejaVu Sans Mono',consolas,'Courier New',monospace\">证券代码 <span style=\"color: #008000; text-decoration-color: #008000\">\"000169\"</span> 可能有误\n",
       "</pre>\n"
      ],
      "text/plain": [
       "证券代码 \u001b[32m\"000169\"\u001b[0m 可能有误\n"
      ]
     },
     "metadata": {},
     "output_type": "display_data"
    },
    {
     "data": {
      "text/html": [
       "<pre style=\"white-space:pre;overflow-x:auto;line-height:normal;font-family:Menlo,'DejaVu Sans Mono',consolas,'Courier New',monospace\">证券代码 <span style=\"color: #008000; text-decoration-color: #008000\">\"000177\"</span> 可能有误\n",
       "</pre>\n"
      ],
      "text/plain": [
       "证券代码 \u001b[32m\"000177\"\u001b[0m 可能有误\n"
      ]
     },
     "metadata": {},
     "output_type": "display_data"
    },
    {
     "data": {
      "text/html": [
       "<pre style=\"white-space:pre;overflow-x:auto;line-height:normal;font-family:Menlo,'DejaVu Sans Mono',consolas,'Courier New',monospace\">证券代码 <span style=\"color: #008000; text-decoration-color: #008000\">\"000178\"</span> 可能有误\n",
       "</pre>\n"
      ],
      "text/plain": [
       "证券代码 \u001b[32m\"000178\"\u001b[0m 可能有误\n"
      ]
     },
     "metadata": {},
     "output_type": "display_data"
    },
    {
     "data": {
      "text/html": [
       "<pre style=\"white-space:pre;overflow-x:auto;line-height:normal;font-family:Menlo,'DejaVu Sans Mono',consolas,'Courier New',monospace\">证券代码 <span style=\"color: #008000; text-decoration-color: #008000\">\"000193\"</span> 可能有误\n",
       "</pre>\n"
      ],
      "text/plain": [
       "证券代码 \u001b[32m\"000193\"\u001b[0m 可能有误\n"
      ]
     },
     "metadata": {},
     "output_type": "display_data"
    },
    {
     "data": {
      "text/html": [
       "<pre style=\"white-space:pre;overflow-x:auto;line-height:normal;font-family:Menlo,'DejaVu Sans Mono',consolas,'Courier New',monospace\">证券代码 <span style=\"color: #008000; text-decoration-color: #008000\">\"000202\"</span> 可能有误\n",
       "</pre>\n"
      ],
      "text/plain": [
       "证券代码 \u001b[32m\"000202\"\u001b[0m 可能有误\n"
      ]
     },
     "metadata": {},
     "output_type": "display_data"
    },
    {
     "data": {
      "text/html": [
       "<pre style=\"white-space:pre;overflow-x:auto;line-height:normal;font-family:Menlo,'DejaVu Sans Mono',consolas,'Courier New',monospace\">证券代码 <span style=\"color: #008000; text-decoration-color: #008000\">\"000223\"</span> 可能有误\n",
       "</pre>\n"
      ],
      "text/plain": [
       "证券代码 \u001b[32m\"000223\"\u001b[0m 可能有误\n"
      ]
     },
     "metadata": {},
     "output_type": "display_data"
    },
    {
     "data": {
      "text/html": [
       "<pre style=\"white-space:pre;overflow-x:auto;line-height:normal;font-family:Menlo,'DejaVu Sans Mono',consolas,'Courier New',monospace\">证券代码 <span style=\"color: #008000; text-decoration-color: #008000\">\"000224\"</span> 可能有误\n",
       "</pre>\n"
      ],
      "text/plain": [
       "证券代码 \u001b[32m\"000224\"\u001b[0m 可能有误\n"
      ]
     },
     "metadata": {},
     "output_type": "display_data"
    },
    {
     "data": {
      "text/html": [
       "<pre style=\"white-space:pre;overflow-x:auto;line-height:normal;font-family:Menlo,'DejaVu Sans Mono',consolas,'Courier New',monospace\">证券代码 <span style=\"color: #008000; text-decoration-color: #008000\">\"000225\"</span> 可能有误\n",
       "</pre>\n"
      ],
      "text/plain": [
       "证券代码 \u001b[32m\"000225\"\u001b[0m 可能有误\n"
      ]
     },
     "metadata": {},
     "output_type": "display_data"
    },
    {
     "data": {
      "text/html": [
       "<pre style=\"white-space:pre;overflow-x:auto;line-height:normal;font-family:Menlo,'DejaVu Sans Mono',consolas,'Courier New',monospace\">证券代码 <span style=\"color: #008000; text-decoration-color: #008000\">\"000233\"</span> 可能有误\n",
       "</pre>\n"
      ],
      "text/plain": [
       "证券代码 \u001b[32m\"000233\"\u001b[0m 可能有误\n"
      ]
     },
     "metadata": {},
     "output_type": "display_data"
    },
    {
     "data": {
      "text/html": [
       "<pre style=\"white-space:pre;overflow-x:auto;line-height:normal;font-family:Menlo,'DejaVu Sans Mono',consolas,'Courier New',monospace\">证券代码 <span style=\"color: #008000; text-decoration-color: #008000\">\"000234\"</span> 可能有误\n",
       "</pre>\n"
      ],
      "text/plain": [
       "证券代码 \u001b[32m\"000234\"\u001b[0m 可能有误\n"
      ]
     },
     "metadata": {},
     "output_type": "display_data"
    },
    {
     "data": {
      "text/html": [
       "<pre style=\"white-space:pre;overflow-x:auto;line-height:normal;font-family:Menlo,'DejaVu Sans Mono',consolas,'Courier New',monospace\">证券代码 <span style=\"color: #008000; text-decoration-color: #008000\">\"000237\"</span> 可能有误\n",
       "</pre>\n"
      ],
      "text/plain": [
       "证券代码 \u001b[32m\"000237\"\u001b[0m 可能有误\n"
      ]
     },
     "metadata": {},
     "output_type": "display_data"
    },
    {
     "data": {
      "text/html": [
       "<pre style=\"white-space:pre;overflow-x:auto;line-height:normal;font-family:Menlo,'DejaVu Sans Mono',consolas,'Courier New',monospace\">证券代码 <span style=\"color: #008000; text-decoration-color: #008000\">\"000238\"</span> 可能有误\n",
       "</pre>\n"
      ],
      "text/plain": [
       "证券代码 \u001b[32m\"000238\"\u001b[0m 可能有误\n"
      ]
     },
     "metadata": {},
     "output_type": "display_data"
    },
    {
     "data": {
      "text/html": [
       "<pre style=\"white-space:pre;overflow-x:auto;line-height:normal;font-family:Menlo,'DejaVu Sans Mono',consolas,'Courier New',monospace\">证券代码 <span style=\"color: #008000; text-decoration-color: #008000\">\"000256\"</span> 可能有误\n",
       "</pre>\n"
      ],
      "text/plain": [
       "证券代码 \u001b[32m\"000256\"\u001b[0m 可能有误\n"
      ]
     },
     "metadata": {},
     "output_type": "display_data"
    },
    {
     "data": {
      "text/html": [
       "<pre style=\"white-space:pre;overflow-x:auto;line-height:normal;font-family:Menlo,'DejaVu Sans Mono',consolas,'Courier New',monospace\">证券代码 <span style=\"color: #008000; text-decoration-color: #008000\">\"000257\"</span> 可能有误\n",
       "</pre>\n"
      ],
      "text/plain": [
       "证券代码 \u001b[32m\"000257\"\u001b[0m 可能有误\n"
      ]
     },
     "metadata": {},
     "output_type": "display_data"
    },
    {
     "data": {
      "text/html": [
       "<pre style=\"white-space:pre;overflow-x:auto;line-height:normal;font-family:Menlo,'DejaVu Sans Mono',consolas,'Courier New',monospace\">证券代码 <span style=\"color: #008000; text-decoration-color: #008000\">\"000258\"</span> 可能有误\n",
       "</pre>\n"
      ],
      "text/plain": [
       "证券代码 \u001b[32m\"000258\"\u001b[0m 可能有误\n"
      ]
     },
     "metadata": {},
     "output_type": "display_data"
    },
    {
     "data": {
      "text/html": [
       "<pre style=\"white-space:pre;overflow-x:auto;line-height:normal;font-family:Menlo,'DejaVu Sans Mono',consolas,'Courier New',monospace\">证券代码 <span style=\"color: #008000; text-decoration-color: #008000\">\"000262\"</span> 可能有误\n",
       "</pre>\n"
      ],
      "text/plain": [
       "证券代码 \u001b[32m\"000262\"\u001b[0m 可能有误\n"
      ]
     },
     "metadata": {},
     "output_type": "display_data"
    },
    {
     "data": {
      "text/html": [
       "<pre style=\"white-space:pre;overflow-x:auto;line-height:normal;font-family:Menlo,'DejaVu Sans Mono',consolas,'Courier New',monospace\">证券代码 <span style=\"color: #008000; text-decoration-color: #008000\">\"000291\"</span> 可能有误\n",
       "</pre>\n"
      ],
      "text/plain": [
       "证券代码 \u001b[32m\"000291\"\u001b[0m 可能有误\n"
      ]
     },
     "metadata": {},
     "output_type": "display_data"
    },
    {
     "data": {
      "text/html": [
       "<pre style=\"white-space:pre;overflow-x:auto;line-height:normal;font-family:Menlo,'DejaVu Sans Mono',consolas,'Courier New',monospace\">证券代码 <span style=\"color: #008000; text-decoration-color: #008000\">\"000292\"</span> 可能有误\n",
       "</pre>\n"
      ],
      "text/plain": [
       "证券代码 \u001b[32m\"000292\"\u001b[0m 可能有误\n"
      ]
     },
     "metadata": {},
     "output_type": "display_data"
    },
    {
     "data": {
      "text/html": [
       "<pre style=\"white-space:pre;overflow-x:auto;line-height:normal;font-family:Menlo,'DejaVu Sans Mono',consolas,'Courier New',monospace\">证券代码 <span style=\"color: #008000; text-decoration-color: #008000\">\"000293\"</span> 可能有误\n",
       "</pre>\n"
      ],
      "text/plain": [
       "证券代码 \u001b[32m\"000293\"\u001b[0m 可能有误\n"
      ]
     },
     "metadata": {},
     "output_type": "display_data"
    },
    {
     "data": {
      "text/html": [
       "<pre style=\"white-space:pre;overflow-x:auto;line-height:normal;font-family:Menlo,'DejaVu Sans Mono',consolas,'Courier New',monospace\">证券代码 <span style=\"color: #008000; text-decoration-color: #008000\">\"000302\"</span> 可能有误\n",
       "</pre>\n"
      ],
      "text/plain": [
       "证券代码 \u001b[32m\"000302\"\u001b[0m 可能有误\n"
      ]
     },
     "metadata": {},
     "output_type": "display_data"
    },
    {
     "data": {
      "text/html": [
       "<pre style=\"white-space:pre;overflow-x:auto;line-height:normal;font-family:Menlo,'DejaVu Sans Mono',consolas,'Courier New',monospace\">证券代码 <span style=\"color: #008000; text-decoration-color: #008000\">\"000303\"</span> 可能有误\n",
       "</pre>\n"
      ],
      "text/plain": [
       "证券代码 \u001b[32m\"000303\"\u001b[0m 可能有误\n"
      ]
     },
     "metadata": {},
     "output_type": "display_data"
    },
    {
     "data": {
      "text/html": [
       "<pre style=\"white-space:pre;overflow-x:auto;line-height:normal;font-family:Menlo,'DejaVu Sans Mono',consolas,'Courier New',monospace\">证券代码 <span style=\"color: #008000; text-decoration-color: #008000\">\"000304\"</span> 可能有误\n",
       "</pre>\n"
      ],
      "text/plain": [
       "证券代码 \u001b[32m\"000304\"\u001b[0m 可能有误\n"
      ]
     },
     "metadata": {},
     "output_type": "display_data"
    },
    {
     "data": {
      "text/html": [
       "<pre style=\"white-space:pre;overflow-x:auto;line-height:normal;font-family:Menlo,'DejaVu Sans Mono',consolas,'Courier New',monospace\">证券代码 <span style=\"color: #008000; text-decoration-color: #008000\">\"000315\"</span> 可能有误\n",
       "</pre>\n"
      ],
      "text/plain": [
       "证券代码 \u001b[32m\"000315\"\u001b[0m 可能有误\n"
      ]
     },
     "metadata": {},
     "output_type": "display_data"
    },
    {
     "data": {
      "text/html": [
       "<pre style=\"white-space:pre;overflow-x:auto;line-height:normal;font-family:Menlo,'DejaVu Sans Mono',consolas,'Courier New',monospace\">证券代码 <span style=\"color: #008000; text-decoration-color: #008000\">\"000316\"</span> 可能有误\n",
       "</pre>\n"
      ],
      "text/plain": [
       "证券代码 \u001b[32m\"000316\"\u001b[0m 可能有误\n"
      ]
     },
     "metadata": {},
     "output_type": "display_data"
    },
    {
     "data": {
      "text/html": [
       "<pre style=\"white-space:pre;overflow-x:auto;line-height:normal;font-family:Menlo,'DejaVu Sans Mono',consolas,'Courier New',monospace\">证券代码 <span style=\"color: #008000; text-decoration-color: #008000\">\"000317\"</span> 可能有误\n",
       "</pre>\n"
      ],
      "text/plain": [
       "证券代码 \u001b[32m\"000317\"\u001b[0m 可能有误\n"
      ]
     },
     "metadata": {},
     "output_type": "display_data"
    },
    {
     "data": {
      "text/html": [
       "<pre style=\"white-space:pre;overflow-x:auto;line-height:normal;font-family:Menlo,'DejaVu Sans Mono',consolas,'Courier New',monospace\">证券代码 <span style=\"color: #008000; text-decoration-color: #008000\">\"000318\"</span> 可能有误\n",
       "</pre>\n"
      ],
      "text/plain": [
       "证券代码 \u001b[32m\"000318\"\u001b[0m 可能有误\n"
      ]
     },
     "metadata": {},
     "output_type": "display_data"
    },
    {
     "data": {
      "text/html": [
       "<pre style=\"white-space:pre;overflow-x:auto;line-height:normal;font-family:Menlo,'DejaVu Sans Mono',consolas,'Courier New',monospace\">证券代码 <span style=\"color: #008000; text-decoration-color: #008000\">\"000321\"</span> 可能有误\n",
       "</pre>\n"
      ],
      "text/plain": [
       "证券代码 \u001b[32m\"000321\"\u001b[0m 可能有误\n"
      ]
     },
     "metadata": {},
     "output_type": "display_data"
    },
    {
     "data": {
      "text/html": [
       "<pre style=\"white-space:pre;overflow-x:auto;line-height:normal;font-family:Menlo,'DejaVu Sans Mono',consolas,'Courier New',monospace\">证券代码 <span style=\"color: #008000; text-decoration-color: #008000\">\"000323\"</span> 可能有误\n",
       "</pre>\n"
      ],
      "text/plain": [
       "证券代码 \u001b[32m\"000323\"\u001b[0m 可能有误\n"
      ]
     },
     "metadata": {},
     "output_type": "display_data"
    },
    {
     "data": {
      "text/html": [
       "<pre style=\"white-space:pre;overflow-x:auto;line-height:normal;font-family:Menlo,'DejaVu Sans Mono',consolas,'Courier New',monospace\">证券代码 <span style=\"color: #008000; text-decoration-color: #008000\">\"000337\"</span> 可能有误\n",
       "</pre>\n"
      ],
      "text/plain": [
       "证券代码 \u001b[32m\"000337\"\u001b[0m 可能有误\n"
      ]
     },
     "metadata": {},
     "output_type": "display_data"
    },
    {
     "data": {
      "text/html": [
       "<pre style=\"white-space:pre;overflow-x:auto;line-height:normal;font-family:Menlo,'DejaVu Sans Mono',consolas,'Courier New',monospace\">证券代码 <span style=\"color: #008000; text-decoration-color: #008000\">\"000340\"</span> 可能有误\n",
       "</pre>\n"
      ],
      "text/plain": [
       "证券代码 \u001b[32m\"000340\"\u001b[0m 可能有误\n"
      ]
     },
     "metadata": {},
     "output_type": "display_data"
    },
    {
     "data": {
      "text/html": [
       "<pre style=\"white-space:pre;overflow-x:auto;line-height:normal;font-family:Menlo,'DejaVu Sans Mono',consolas,'Courier New',monospace\">证券代码 <span style=\"color: #008000; text-decoration-color: #008000\">\"000344\"</span> 可能有误\n",
       "</pre>\n"
      ],
      "text/plain": [
       "证券代码 \u001b[32m\"000344\"\u001b[0m 可能有误\n"
      ]
     },
     "metadata": {},
     "output_type": "display_data"
    },
    {
     "data": {
      "text/html": [
       "<pre style=\"white-space:pre;overflow-x:auto;line-height:normal;font-family:Menlo,'DejaVu Sans Mono',consolas,'Courier New',monospace\">证券代码 <span style=\"color: #008000; text-decoration-color: #008000\">\"000348\"</span> 可能有误\n",
       "</pre>\n"
      ],
      "text/plain": [
       "证券代码 \u001b[32m\"000348\"\u001b[0m 可能有误\n"
      ]
     },
     "metadata": {},
     "output_type": "display_data"
    },
    {
     "data": {
      "text/html": [
       "<pre style=\"white-space:pre;overflow-x:auto;line-height:normal;font-family:Menlo,'DejaVu Sans Mono',consolas,'Courier New',monospace\">证券代码 <span style=\"color: #008000; text-decoration-color: #008000\">\"000349\"</span> 可能有误\n",
       "</pre>\n"
      ],
      "text/plain": [
       "证券代码 \u001b[32m\"000349\"\u001b[0m 可能有误\n"
      ]
     },
     "metadata": {},
     "output_type": "display_data"
    },
    {
     "data": {
      "text/html": [
       "<pre style=\"white-space:pre;overflow-x:auto;line-height:normal;font-family:Menlo,'DejaVu Sans Mono',consolas,'Courier New',monospace\">证券代码 <span style=\"color: #008000; text-decoration-color: #008000\">\"000350\"</span> 可能有误\n",
       "</pre>\n"
      ],
      "text/plain": [
       "证券代码 \u001b[32m\"000350\"\u001b[0m 可能有误\n"
      ]
     },
     "metadata": {},
     "output_type": "display_data"
    },
    {
     "data": {
      "text/html": [
       "<pre style=\"white-space:pre;overflow-x:auto;line-height:normal;font-family:Menlo,'DejaVu Sans Mono',consolas,'Courier New',monospace\">证券代码 <span style=\"color: #008000; text-decoration-color: #008000\">\"000353\"</span> 可能有误\n",
       "</pre>\n"
      ],
      "text/plain": [
       "证券代码 \u001b[32m\"000353\"\u001b[0m 可能有误\n"
      ]
     },
     "metadata": {},
     "output_type": "display_data"
    },
    {
     "data": {
      "text/html": [
       "<pre style=\"white-space:pre;overflow-x:auto;line-height:normal;font-family:Menlo,'DejaVu Sans Mono',consolas,'Courier New',monospace\">证券代码 <span style=\"color: #008000; text-decoration-color: #008000\">\"000357\"</span> 可能有误\n",
       "</pre>\n"
      ],
      "text/plain": [
       "证券代码 \u001b[32m\"000357\"\u001b[0m 可能有误\n"
      ]
     },
     "metadata": {},
     "output_type": "display_data"
    },
    {
     "data": {
      "text/html": [
       "<pre style=\"white-space:pre;overflow-x:auto;line-height:normal;font-family:Menlo,'DejaVu Sans Mono',consolas,'Courier New',monospace\">证券代码 <span style=\"color: #008000; text-decoration-color: #008000\">\"000358\"</span> 可能有误\n",
       "</pre>\n"
      ],
      "text/plain": [
       "证券代码 \u001b[32m\"000358\"\u001b[0m 可能有误\n"
      ]
     },
     "metadata": {},
     "output_type": "display_data"
    },
    {
     "data": {
      "text/html": [
       "<pre style=\"white-space:pre;overflow-x:auto;line-height:normal;font-family:Menlo,'DejaVu Sans Mono',consolas,'Courier New',monospace\">证券代码 <span style=\"color: #008000; text-decoration-color: #008000\">\"000360\"</span> 可能有误\n",
       "</pre>\n"
      ],
      "text/plain": [
       "证券代码 \u001b[32m\"000360\"\u001b[0m 可能有误\n"
      ]
     },
     "metadata": {},
     "output_type": "display_data"
    },
    {
     "data": {
      "text/html": [
       "<pre style=\"white-space:pre;overflow-x:auto;line-height:normal;font-family:Menlo,'DejaVu Sans Mono',consolas,'Courier New',monospace\">证券代码 <span style=\"color: #008000; text-decoration-color: #008000\">\"000361\"</span> 可能有误\n",
       "</pre>\n"
      ],
      "text/plain": [
       "证券代码 \u001b[32m\"000361\"\u001b[0m 可能有误\n"
      ]
     },
     "metadata": {},
     "output_type": "display_data"
    },
    {
     "data": {
      "text/html": [
       "<pre style=\"white-space:pre;overflow-x:auto;line-height:normal;font-family:Menlo,'DejaVu Sans Mono',consolas,'Courier New',monospace\">证券代码 <span style=\"color: #008000; text-decoration-color: #008000\">\"000364\"</span> 可能有误\n",
       "</pre>\n"
      ],
      "text/plain": [
       "证券代码 \u001b[32m\"000364\"\u001b[0m 可能有误\n"
      ]
     },
     "metadata": {},
     "output_type": "display_data"
    },
    {
     "data": {
      "text/html": [
       "<pre style=\"white-space:pre;overflow-x:auto;line-height:normal;font-family:Menlo,'DejaVu Sans Mono',consolas,'Courier New',monospace\">证券代码 <span style=\"color: #008000; text-decoration-color: #008000\">\"000365\"</span> 可能有误\n",
       "</pre>\n"
      ],
      "text/plain": [
       "证券代码 \u001b[32m\"000365\"\u001b[0m 可能有误\n"
      ]
     },
     "metadata": {},
     "output_type": "display_data"
    },
    {
     "data": {
      "text/html": [
       "<pre style=\"white-space:pre;overflow-x:auto;line-height:normal;font-family:Menlo,'DejaVu Sans Mono',consolas,'Courier New',monospace\">证券代码 <span style=\"color: #008000; text-decoration-color: #008000\">\"000374\"</span> 可能有误\n",
       "</pre>\n"
      ],
      "text/plain": [
       "证券代码 \u001b[32m\"000374\"\u001b[0m 可能有误\n"
      ]
     },
     "metadata": {},
     "output_type": "display_data"
    },
    {
     "data": {
      "text/html": [
       "<pre style=\"white-space:pre;overflow-x:auto;line-height:normal;font-family:Menlo,'DejaVu Sans Mono',consolas,'Courier New',monospace\">证券代码 <span style=\"color: #008000; text-decoration-color: #008000\">\"000375\"</span> 可能有误\n",
       "</pre>\n"
      ],
      "text/plain": [
       "证券代码 \u001b[32m\"000375\"\u001b[0m 可能有误\n"
      ]
     },
     "metadata": {},
     "output_type": "display_data"
    },
    {
     "data": {
      "text/html": [
       "<pre style=\"white-space:pre;overflow-x:auto;line-height:normal;font-family:Menlo,'DejaVu Sans Mono',consolas,'Courier New',monospace\">证券代码 <span style=\"color: #008000; text-decoration-color: #008000\">\"000382\"</span> 可能有误\n",
       "</pre>\n"
      ],
      "text/plain": [
       "证券代码 \u001b[32m\"000382\"\u001b[0m 可能有误\n"
      ]
     },
     "metadata": {},
     "output_type": "display_data"
    },
    {
     "data": {
      "text/html": [
       "<pre style=\"white-space:pre;overflow-x:auto;line-height:normal;font-family:Menlo,'DejaVu Sans Mono',consolas,'Courier New',monospace\">证券代码 <span style=\"color: #008000; text-decoration-color: #008000\">\"000383\"</span> 可能有误\n",
       "</pre>\n"
      ],
      "text/plain": [
       "证券代码 \u001b[32m\"000383\"\u001b[0m 可能有误\n"
      ]
     },
     "metadata": {},
     "output_type": "display_data"
    },
    {
     "data": {
      "text/html": [
       "<pre style=\"white-space:pre;overflow-x:auto;line-height:normal;font-family:Menlo,'DejaVu Sans Mono',consolas,'Courier New',monospace\">证券代码 <span style=\"color: #008000; text-decoration-color: #008000\">\"000384\"</span> 可能有误\n",
       "</pre>\n"
      ],
      "text/plain": [
       "证券代码 \u001b[32m\"000384\"\u001b[0m 可能有误\n"
      ]
     },
     "metadata": {},
     "output_type": "display_data"
    },
    {
     "data": {
      "text/html": [
       "<pre style=\"white-space:pre;overflow-x:auto;line-height:normal;font-family:Menlo,'DejaVu Sans Mono',consolas,'Courier New',monospace\">证券代码 <span style=\"color: #008000; text-decoration-color: #008000\">\"000387\"</span> 可能有误\n",
       "</pre>\n"
      ],
      "text/plain": [
       "证券代码 \u001b[32m\"000387\"\u001b[0m 可能有误\n"
      ]
     },
     "metadata": {},
     "output_type": "display_data"
    },
    {
     "data": {
      "text/html": [
       "<pre style=\"white-space:pre;overflow-x:auto;line-height:normal;font-family:Menlo,'DejaVu Sans Mono',consolas,'Courier New',monospace\">证券代码 <span style=\"color: #008000; text-decoration-color: #008000\">\"000388\"</span> 可能有误\n",
       "</pre>\n"
      ],
      "text/plain": [
       "证券代码 \u001b[32m\"000388\"\u001b[0m 可能有误\n"
      ]
     },
     "metadata": {},
     "output_type": "display_data"
    },
    {
     "data": {
      "text/html": [
       "<pre style=\"white-space:pre;overflow-x:auto;line-height:normal;font-family:Menlo,'DejaVu Sans Mono',consolas,'Courier New',monospace\">证券代码 <span style=\"color: #008000; text-decoration-color: #008000\">\"000391\"</span> 可能有误\n",
       "</pre>\n"
      ],
      "text/plain": [
       "证券代码 \u001b[32m\"000391\"\u001b[0m 可能有误\n"
      ]
     },
     "metadata": {},
     "output_type": "display_data"
    },
    {
     "data": {
      "text/html": [
       "<pre style=\"white-space:pre;overflow-x:auto;line-height:normal;font-family:Menlo,'DejaVu Sans Mono',consolas,'Courier New',monospace\">证券代码 <span style=\"color: #008000; text-decoration-color: #008000\">\"000392\"</span> 可能有误\n",
       "</pre>\n"
      ],
      "text/plain": [
       "证券代码 \u001b[32m\"000392\"\u001b[0m 可能有误\n"
      ]
     },
     "metadata": {},
     "output_type": "display_data"
    },
    {
     "data": {
      "text/html": [
       "<pre style=\"white-space:pre;overflow-x:auto;line-height:normal;font-family:Menlo,'DejaVu Sans Mono',consolas,'Courier New',monospace\">证券代码 <span style=\"color: #008000; text-decoration-color: #008000\">\"000393\"</span> 可能有误\n",
       "</pre>\n"
      ],
      "text/plain": [
       "证券代码 \u001b[32m\"000393\"\u001b[0m 可能有误\n"
      ]
     },
     "metadata": {},
     "output_type": "display_data"
    },
    {
     "data": {
      "text/html": [
       "<pre style=\"white-space:pre;overflow-x:auto;line-height:normal;font-family:Menlo,'DejaVu Sans Mono',consolas,'Courier New',monospace\">证券代码 <span style=\"color: #008000; text-decoration-color: #008000\">\"000399\"</span> 可能有误\n",
       "</pre>\n"
      ],
      "text/plain": [
       "证券代码 \u001b[32m\"000399\"\u001b[0m 可能有误\n"
      ]
     },
     "metadata": {},
     "output_type": "display_data"
    },
    {
     "data": {
      "text/html": [
       "<pre style=\"white-space:pre;overflow-x:auto;line-height:normal;font-family:Menlo,'DejaVu Sans Mono',consolas,'Courier New',monospace\">证券代码 <span style=\"color: #008000; text-decoration-color: #008000\">\"000427\"</span> 可能有误\n",
       "</pre>\n"
      ],
      "text/plain": [
       "证券代码 \u001b[32m\"000427\"\u001b[0m 可能有误\n"
      ]
     },
     "metadata": {},
     "output_type": "display_data"
    },
    {
     "data": {
      "text/html": [
       "<pre style=\"white-space:pre;overflow-x:auto;line-height:normal;font-family:Menlo,'DejaVu Sans Mono',consolas,'Courier New',monospace\">证券代码 <span style=\"color: #008000; text-decoration-color: #008000\">\"000435\"</span> 可能有误\n",
       "</pre>\n"
      ],
      "text/plain": [
       "证券代码 \u001b[32m\"000435\"\u001b[0m 可能有误\n"
      ]
     },
     "metadata": {},
     "output_type": "display_data"
    },
    {
     "data": {
      "text/html": [
       "<pre style=\"white-space:pre;overflow-x:auto;line-height:normal;font-family:Menlo,'DejaVu Sans Mono',consolas,'Courier New',monospace\">证券代码 <span style=\"color: #008000; text-decoration-color: #008000\">\"000437\"</span> 可能有误\n",
       "</pre>\n"
      ],
      "text/plain": [
       "证券代码 \u001b[32m\"000437\"\u001b[0m 可能有误\n"
      ]
     },
     "metadata": {},
     "output_type": "display_data"
    },
    {
     "data": {
      "text/html": [
       "<pre style=\"white-space:pre;overflow-x:auto;line-height:normal;font-family:Menlo,'DejaVu Sans Mono',consolas,'Courier New',monospace\">证券代码 <span style=\"color: #008000; text-decoration-color: #008000\">\"000438\"</span> 可能有误\n",
       "</pre>\n"
      ],
      "text/plain": [
       "证券代码 \u001b[32m\"000438\"\u001b[0m 可能有误\n"
      ]
     },
     "metadata": {},
     "output_type": "display_data"
    },
    {
     "data": {
      "text/html": [
       "<pre style=\"white-space:pre;overflow-x:auto;line-height:normal;font-family:Menlo,'DejaVu Sans Mono',consolas,'Courier New',monospace\">证券代码 <span style=\"color: #008000; text-decoration-color: #008000\">\"000440\"</span> 可能有误\n",
       "</pre>\n"
      ],
      "text/plain": [
       "证券代码 \u001b[32m\"000440\"\u001b[0m 可能有误\n"
      ]
     },
     "metadata": {},
     "output_type": "display_data"
    },
    {
     "data": {
      "text/html": [
       "<pre style=\"white-space:pre;overflow-x:auto;line-height:normal;font-family:Menlo,'DejaVu Sans Mono',consolas,'Courier New',monospace\">证券代码 <span style=\"color: #008000; text-decoration-color: #008000\">\"000441\"</span> 可能有误\n",
       "</pre>\n"
      ],
      "text/plain": [
       "证券代码 \u001b[32m\"000441\"\u001b[0m 可能有误\n"
      ]
     },
     "metadata": {},
     "output_type": "display_data"
    },
    {
     "data": {
      "text/html": [
       "<pre style=\"white-space:pre;overflow-x:auto;line-height:normal;font-family:Menlo,'DejaVu Sans Mono',consolas,'Courier New',monospace\">证券代码 <span style=\"color: #008000; text-decoration-color: #008000\">\"000442\"</span> 可能有误\n",
       "</pre>\n"
      ],
      "text/plain": [
       "证券代码 \u001b[32m\"000442\"\u001b[0m 可能有误\n"
      ]
     },
     "metadata": {},
     "output_type": "display_data"
    },
    {
     "data": {
      "text/html": [
       "<pre style=\"white-space:pre;overflow-x:auto;line-height:normal;font-family:Menlo,'DejaVu Sans Mono',consolas,'Courier New',monospace\">证券代码 <span style=\"color: #008000; text-decoration-color: #008000\">\"000443\"</span> 可能有误\n",
       "</pre>\n"
      ],
      "text/plain": [
       "证券代码 \u001b[32m\"000443\"\u001b[0m 可能有误\n"
      ]
     },
     "metadata": {},
     "output_type": "display_data"
    },
    {
     "data": {
      "text/html": [
       "<pre style=\"white-space:pre;overflow-x:auto;line-height:normal;font-family:Menlo,'DejaVu Sans Mono',consolas,'Courier New',monospace\">证券代码 <span style=\"color: #008000; text-decoration-color: #008000\">\"000444\"</span> 可能有误\n",
       "</pre>\n"
      ],
      "text/plain": [
       "证券代码 \u001b[32m\"000444\"\u001b[0m 可能有误\n"
      ]
     },
     "metadata": {},
     "output_type": "display_data"
    },
    {
     "data": {
      "text/html": [
       "<pre style=\"white-space:pre;overflow-x:auto;line-height:normal;font-family:Menlo,'DejaVu Sans Mono',consolas,'Courier New',monospace\">证券代码 <span style=\"color: #008000; text-decoration-color: #008000\">\"000445\"</span> 可能有误\n",
       "</pre>\n"
      ],
      "text/plain": [
       "证券代码 \u001b[32m\"000445\"\u001b[0m 可能有误\n"
      ]
     },
     "metadata": {},
     "output_type": "display_data"
    },
    {
     "data": {
      "text/html": [
       "<pre style=\"white-space:pre;overflow-x:auto;line-height:normal;font-family:Menlo,'DejaVu Sans Mono',consolas,'Courier New',monospace\">证券代码 <span style=\"color: #008000; text-decoration-color: #008000\">\"000446\"</span> 可能有误\n",
       "</pre>\n"
      ],
      "text/plain": [
       "证券代码 \u001b[32m\"000446\"\u001b[0m 可能有误\n"
      ]
     },
     "metadata": {},
     "output_type": "display_data"
    },
    {
     "data": {
      "text/html": [
       "<pre style=\"white-space:pre;overflow-x:auto;line-height:normal;font-family:Menlo,'DejaVu Sans Mono',consolas,'Courier New',monospace\">证券代码 <span style=\"color: #008000; text-decoration-color: #008000\">\"000447\"</span> 可能有误\n",
       "</pre>\n"
      ],
      "text/plain": [
       "证券代码 \u001b[32m\"000447\"\u001b[0m 可能有误\n"
      ]
     },
     "metadata": {},
     "output_type": "display_data"
    },
    {
     "data": {
      "text/html": [
       "<pre style=\"white-space:pre;overflow-x:auto;line-height:normal;font-family:Menlo,'DejaVu Sans Mono',consolas,'Courier New',monospace\">证券代码 <span style=\"color: #008000; text-decoration-color: #008000\">\"000448\"</span> 可能有误\n",
       "</pre>\n"
      ],
      "text/plain": [
       "证券代码 \u001b[32m\"000448\"\u001b[0m 可能有误\n"
      ]
     },
     "metadata": {},
     "output_type": "display_data"
    },
    {
     "data": {
      "text/html": [
       "<pre style=\"white-space:pre;overflow-x:auto;line-height:normal;font-family:Menlo,'DejaVu Sans Mono',consolas,'Courier New',monospace\">证券代码 <span style=\"color: #008000; text-decoration-color: #008000\">\"000449\"</span> 可能有误\n",
       "</pre>\n"
      ],
      "text/plain": [
       "证券代码 \u001b[32m\"000449\"\u001b[0m 可能有误\n"
      ]
     },
     "metadata": {},
     "output_type": "display_data"
    },
    {
     "data": {
      "text/html": [
       "<pre style=\"white-space:pre;overflow-x:auto;line-height:normal;font-family:Menlo,'DejaVu Sans Mono',consolas,'Courier New',monospace\">证券代码 <span style=\"color: #008000; text-decoration-color: #008000\">\"000450\"</span> 可能有误\n",
       "</pre>\n"
      ],
      "text/plain": [
       "证券代码 \u001b[32m\"000450\"\u001b[0m 可能有误\n"
      ]
     },
     "metadata": {},
     "output_type": "display_data"
    },
    {
     "data": {
      "text/html": [
       "<pre style=\"white-space:pre;overflow-x:auto;line-height:normal;font-family:Menlo,'DejaVu Sans Mono',consolas,'Courier New',monospace\">证券代码 <span style=\"color: #008000; text-decoration-color: #008000\">\"000451\"</span> 可能有误\n",
       "</pre>\n"
      ],
      "text/plain": [
       "证券代码 \u001b[32m\"000451\"\u001b[0m 可能有误\n"
      ]
     },
     "metadata": {},
     "output_type": "display_data"
    },
    {
     "data": {
      "text/html": [
       "<pre style=\"white-space:pre;overflow-x:auto;line-height:normal;font-family:Menlo,'DejaVu Sans Mono',consolas,'Courier New',monospace\">证券代码 <span style=\"color: #008000; text-decoration-color: #008000\">\"000453\"</span> 可能有误\n",
       "</pre>\n"
      ],
      "text/plain": [
       "证券代码 \u001b[32m\"000453\"\u001b[0m 可能有误\n"
      ]
     },
     "metadata": {},
     "output_type": "display_data"
    },
    {
     "data": {
      "text/html": [
       "<pre style=\"white-space:pre;overflow-x:auto;line-height:normal;font-family:Menlo,'DejaVu Sans Mono',consolas,'Courier New',monospace\">证券代码 <span style=\"color: #008000; text-decoration-color: #008000\">\"000454\"</span> 可能有误\n",
       "</pre>\n"
      ],
      "text/plain": [
       "证券代码 \u001b[32m\"000454\"\u001b[0m 可能有误\n"
      ]
     },
     "metadata": {},
     "output_type": "display_data"
    },
    {
     "data": {
      "text/html": [
       "<pre style=\"white-space:pre;overflow-x:auto;line-height:normal;font-family:Menlo,'DejaVu Sans Mono',consolas,'Courier New',monospace\">证券代码 <span style=\"color: #008000; text-decoration-color: #008000\">\"000455\"</span> 可能有误\n",
       "</pre>\n"
      ],
      "text/plain": [
       "证券代码 \u001b[32m\"000455\"\u001b[0m 可能有误\n"
      ]
     },
     "metadata": {},
     "output_type": "display_data"
    },
    {
     "data": {
      "text/html": [
       "<pre style=\"white-space:pre;overflow-x:auto;line-height:normal;font-family:Menlo,'DejaVu Sans Mono',consolas,'Courier New',monospace\">证券代码 <span style=\"color: #008000; text-decoration-color: #008000\">\"000456\"</span> 可能有误\n",
       "</pre>\n"
      ],
      "text/plain": [
       "证券代码 \u001b[32m\"000456\"\u001b[0m 可能有误\n"
      ]
     },
     "metadata": {},
     "output_type": "display_data"
    },
    {
     "data": {
      "text/html": [
       "<pre style=\"white-space:pre;overflow-x:auto;line-height:normal;font-family:Menlo,'DejaVu Sans Mono',consolas,'Courier New',monospace\">证券代码 <span style=\"color: #008000; text-decoration-color: #008000\">\"000460\"</span> 可能有误\n",
       "</pre>\n"
      ],
      "text/plain": [
       "证券代码 \u001b[32m\"000460\"\u001b[0m 可能有误\n"
      ]
     },
     "metadata": {},
     "output_type": "display_data"
    },
    {
     "data": {
      "text/html": [
       "<pre style=\"white-space:pre;overflow-x:auto;line-height:normal;font-family:Menlo,'DejaVu Sans Mono',consolas,'Courier New',monospace\">证券代码 <span style=\"color: #008000; text-decoration-color: #008000\">\"000461\"</span> 可能有误\n",
       "</pre>\n"
      ],
      "text/plain": [
       "证券代码 \u001b[32m\"000461\"\u001b[0m 可能有误\n"
      ]
     },
     "metadata": {},
     "output_type": "display_data"
    },
    {
     "data": {
      "text/html": [
       "<pre style=\"white-space:pre;overflow-x:auto;line-height:normal;font-family:Menlo,'DejaVu Sans Mono',consolas,'Courier New',monospace\">证券代码 <span style=\"color: #008000; text-decoration-color: #008000\">\"000466\"</span> 可能有误\n",
       "</pre>\n"
      ],
      "text/plain": [
       "证券代码 \u001b[32m\"000466\"\u001b[0m 可能有误\n"
      ]
     },
     "metadata": {},
     "output_type": "display_data"
    },
    {
     "data": {
      "text/html": [
       "<pre style=\"white-space:pre;overflow-x:auto;line-height:normal;font-family:Menlo,'DejaVu Sans Mono',consolas,'Courier New',monospace\">证券代码 <span style=\"color: #008000; text-decoration-color: #008000\">\"000467\"</span> 可能有误\n",
       "</pre>\n"
      ],
      "text/plain": [
       "证券代码 \u001b[32m\"000467\"\u001b[0m 可能有误\n"
      ]
     },
     "metadata": {},
     "output_type": "display_data"
    },
    {
     "data": {
      "text/html": [
       "<pre style=\"white-space:pre;overflow-x:auto;line-height:normal;font-family:Menlo,'DejaVu Sans Mono',consolas,'Courier New',monospace\">证券代码 <span style=\"color: #008000; text-decoration-color: #008000\">\"000468\"</span> 可能有误\n",
       "</pre>\n"
      ],
      "text/plain": [
       "证券代码 \u001b[32m\"000468\"\u001b[0m 可能有误\n"
      ]
     },
     "metadata": {},
     "output_type": "display_data"
    },
    {
     "data": {
      "text/html": [
       "<pre style=\"white-space:pre;overflow-x:auto;line-height:normal;font-family:Menlo,'DejaVu Sans Mono',consolas,'Courier New',monospace\">证券代码 <span style=\"color: #008000; text-decoration-color: #008000\">\"000473\"</span> 可能有误\n",
       "</pre>\n"
      ],
      "text/plain": [
       "证券代码 \u001b[32m\"000473\"\u001b[0m 可能有误\n"
      ]
     },
     "metadata": {},
     "output_type": "display_data"
    },
    {
     "data": {
      "text/html": [
       "<pre style=\"white-space:pre;overflow-x:auto;line-height:normal;font-family:Menlo,'DejaVu Sans Mono',consolas,'Courier New',monospace\">证券代码 <span style=\"color: #008000; text-decoration-color: #008000\">\"000474\"</span> 可能有误\n",
       "</pre>\n"
      ],
      "text/plain": [
       "证券代码 \u001b[32m\"000474\"\u001b[0m 可能有误\n"
      ]
     },
     "metadata": {},
     "output_type": "display_data"
    },
    {
     "data": {
      "text/html": [
       "<pre style=\"white-space:pre;overflow-x:auto;line-height:normal;font-family:Menlo,'DejaVu Sans Mono',consolas,'Courier New',monospace\">证券代码 <span style=\"color: #008000; text-decoration-color: #008000\">\"000479\"</span> 可能有误\n",
       "</pre>\n"
      ],
      "text/plain": [
       "证券代码 \u001b[32m\"000479\"\u001b[0m 可能有误\n"
      ]
     },
     "metadata": {},
     "output_type": "display_data"
    },
    {
     "data": {
      "text/html": [
       "<pre style=\"white-space:pre;overflow-x:auto;line-height:normal;font-family:Menlo,'DejaVu Sans Mono',consolas,'Courier New',monospace\">证券代码 <span style=\"color: #008000; text-decoration-color: #008000\">\"000482\"</span> 可能有误\n",
       "</pre>\n"
      ],
      "text/plain": [
       "证券代码 \u001b[32m\"000482\"\u001b[0m 可能有误\n"
      ]
     },
     "metadata": {},
     "output_type": "display_data"
    },
    {
     "data": {
      "text/html": [
       "<pre style=\"white-space:pre;overflow-x:auto;line-height:normal;font-family:Menlo,'DejaVu Sans Mono',consolas,'Courier New',monospace\">证券代码 <span style=\"color: #008000; text-decoration-color: #008000\">\"000485\"</span> 可能有误\n",
       "</pre>\n"
      ],
      "text/plain": [
       "证券代码 \u001b[32m\"000485\"\u001b[0m 可能有误\n"
      ]
     },
     "metadata": {},
     "output_type": "display_data"
    },
    {
     "data": {
      "text/html": [
       "<pre style=\"white-space:pre;overflow-x:auto;line-height:normal;font-family:Menlo,'DejaVu Sans Mono',consolas,'Courier New',monospace\">证券代码 <span style=\"color: #008000; text-decoration-color: #008000\">\"000486\"</span> 可能有误\n",
       "</pre>\n"
      ],
      "text/plain": [
       "证券代码 \u001b[32m\"000486\"\u001b[0m 可能有误\n"
      ]
     },
     "metadata": {},
     "output_type": "display_data"
    },
    {
     "data": {
      "text/html": [
       "<pre style=\"white-space:pre;overflow-x:auto;line-height:normal;font-family:Menlo,'DejaVu Sans Mono',consolas,'Courier New',monospace\">证券代码 <span style=\"color: #008000; text-decoration-color: #008000\">\"000491\"</span> 可能有误\n",
       "</pre>\n"
      ],
      "text/plain": [
       "证券代码 \u001b[32m\"000491\"\u001b[0m 可能有误\n"
      ]
     },
     "metadata": {},
     "output_type": "display_data"
    },
    {
     "data": {
      "text/html": [
       "<pre style=\"white-space:pre;overflow-x:auto;line-height:normal;font-family:Menlo,'DejaVu Sans Mono',consolas,'Courier New',monospace\">证券代码 <span style=\"color: #008000; text-decoration-color: #008000\">\"000492\"</span> 可能有误\n",
       "</pre>\n"
      ],
      "text/plain": [
       "证券代码 \u001b[32m\"000492\"\u001b[0m 可能有误\n"
      ]
     },
     "metadata": {},
     "output_type": "display_data"
    },
    {
     "data": {
      "text/html": [
       "<pre style=\"white-space:pre;overflow-x:auto;line-height:normal;font-family:Menlo,'DejaVu Sans Mono',consolas,'Courier New',monospace\">证券代码 <span style=\"color: #008000; text-decoration-color: #008000\">\"000499\"</span> 可能有误\n",
       "</pre>\n"
      ],
      "text/plain": [
       "证券代码 \u001b[32m\"000499\"\u001b[0m 可能有误\n"
      ]
     },
     "metadata": {},
     "output_type": "display_data"
    },
    {
     "data": {
      "text/html": [
       "<pre style=\"white-space:pre;overflow-x:auto;line-height:normal;font-family:Menlo,'DejaVu Sans Mono',consolas,'Courier New',monospace\">证券代码 <span style=\"color: #008000; text-decoration-color: #008000\">\"000500\"</span> 可能有误\n",
       "</pre>\n"
      ],
      "text/plain": [
       "证券代码 \u001b[32m\"000500\"\u001b[0m 可能有误\n"
      ]
     },
     "metadata": {},
     "output_type": "display_data"
    },
    {
     "data": {
      "text/html": [
       "<pre style=\"white-space:pre;overflow-x:auto;line-height:normal;font-family:Menlo,'DejaVu Sans Mono',consolas,'Courier New',monospace\">证券代码 <span style=\"color: #008000; text-decoration-color: #008000\">\"000643\"</span> 可能有误\n",
       "</pre>\n"
      ],
      "text/plain": [
       "证券代码 \u001b[32m\"000643\"\u001b[0m 可能有误\n"
      ]
     },
     "metadata": {},
     "output_type": "display_data"
    },
    {
     "data": {
      "text/html": [
       "<pre style=\"white-space:pre;overflow-x:auto;line-height:normal;font-family:Menlo,'DejaVu Sans Mono',consolas,'Courier New',monospace\">证券代码 <span style=\"color: #008000; text-decoration-color: #008000\">\"000749\"</span> 可能有误\n",
       "</pre>\n"
      ],
      "text/plain": [
       "证券代码 \u001b[32m\"000749\"\u001b[0m 可能有误\n"
      ]
     },
     "metadata": {},
     "output_type": "display_data"
    },
    {
     "data": {
      "text/html": [
       "<pre style=\"white-space:pre;overflow-x:auto;line-height:normal;font-family:Menlo,'DejaVu Sans Mono',consolas,'Courier New',monospace\">证券代码 <span style=\"color: #008000; text-decoration-color: #008000\">\"000770\"</span> 可能有误\n",
       "</pre>\n"
      ],
      "text/plain": [
       "证券代码 \u001b[32m\"000770\"\u001b[0m 可能有误\n"
      ]
     },
     "metadata": {},
     "output_type": "display_data"
    },
    {
     "data": {
      "text/html": [
       "<pre style=\"white-space:pre;overflow-x:auto;line-height:normal;font-family:Menlo,'DejaVu Sans Mono',consolas,'Courier New',monospace\">证券代码 <span style=\"color: #008000; text-decoration-color: #008000\">\"000774\"</span> 可能有误\n",
       "</pre>\n"
      ],
      "text/plain": [
       "证券代码 \u001b[32m\"000774\"\u001b[0m 可能有误\n"
      ]
     },
     "metadata": {},
     "output_type": "display_data"
    },
    {
     "data": {
      "text/html": [
       "<pre style=\"white-space:pre;overflow-x:auto;line-height:normal;font-family:Menlo,'DejaVu Sans Mono',consolas,'Courier New',monospace\">证券代码 <span style=\"color: #008000; text-decoration-color: #008000\">\"000775\"</span> 可能有误\n",
       "</pre>\n"
      ],
      "text/plain": [
       "证券代码 \u001b[32m\"000775\"\u001b[0m 可能有误\n"
      ]
     },
     "metadata": {},
     "output_type": "display_data"
    },
    {
     "data": {
      "text/html": [
       "<pre style=\"white-space:pre;overflow-x:auto;line-height:normal;font-family:Menlo,'DejaVu Sans Mono',consolas,'Courier New',monospace\">证券代码 <span style=\"color: #008000; text-decoration-color: #008000\">\"000781\"</span> 可能有误\n",
       "</pre>\n"
      ],
      "text/plain": [
       "证券代码 \u001b[32m\"000781\"\u001b[0m 可能有误\n"
      ]
     },
     "metadata": {},
     "output_type": "display_data"
    },
    {
     "data": {
      "text/html": [
       "<pre style=\"white-space:pre;overflow-x:auto;line-height:normal;font-family:Menlo,'DejaVu Sans Mono',consolas,'Courier New',monospace\">证券代码 <span style=\"color: #008000; text-decoration-color: #008000\">\"000864\"</span> 可能有误\n",
       "</pre>\n"
      ],
      "text/plain": [
       "证券代码 \u001b[32m\"000864\"\u001b[0m 可能有误\n"
      ]
     },
     "metadata": {},
     "output_type": "display_data"
    },
    {
     "data": {
      "text/html": [
       "<pre style=\"white-space:pre;overflow-x:auto;line-height:normal;font-family:Menlo,'DejaVu Sans Mono',consolas,'Courier New',monospace\">证券代码 <span style=\"color: #008000; text-decoration-color: #008000\">\"000947\"</span> 可能有误\n",
       "</pre>\n"
      ],
      "text/plain": [
       "证券代码 \u001b[32m\"000947\"\u001b[0m 可能有误\n"
      ]
     },
     "metadata": {},
     "output_type": "display_data"
    }
   ],
   "source": [
    "import efinance as ef\n",
    "# 股票代码\n",
    "for i in range(0,999):\n",
    "    stock_code = \"{:0>6}\".format(i)\n",
    "    # 开始日期\n",
    "    beg = '20160612'\n",
    "    # 结束日期\n",
    "    end = '20231102'\n",
    "    # 获取股票日 K 数据\n",
    "    df = ef.stock.get_quote_history(stock_code, beg=beg, end=end)\n",
    "    df.to_csv('{}股票数据.csv'.format(stock_code), index=False)"
   ]
  },
  {
   "cell_type": "code",
   "execution_count": 27,
   "metadata": {},
   "outputs": [
    {
     "data": {
      "text/plain": [
       "'000999'"
      ]
     },
     "execution_count": 27,
     "metadata": {},
     "output_type": "execute_result"
    }
   ],
   "source": [
    "i = 999\n",
    "str1 = \"{:0>6}\".format(i)\n",
    "str1"
   ]
  },
  {
   "cell_type": "code",
   "execution_count": 30,
   "metadata": {},
   "outputs": [],
   "source": [
    "import efinance as ef\n",
    "# 股票代码\n",
    "stock_code = \"000001\"\n",
    "# 开始日期\n",
    "beg = '20160612'\n",
    "# 结束日期\n",
    "end = '20231102'\n",
    "# 获取股票日 K 数据\n",
    "df = ef.stock.get_quote_history(stock_code, beg=beg, end=end)\n",
    "df.to_csv('{}股票数据.csv'.format(stock_code), index=False)"
   ]
  },
  {
   "cell_type": "code",
   "execution_count": 31,
   "metadata": {},
   "outputs": [
    {
     "name": "stdout",
     "output_type": "stream",
     "text": [
      "File 000087股票数据.csv has been deleted.\n",
      "File 000144股票数据.csv has been deleted.\n",
      "File 000163股票数据.csv has been deleted.\n",
      "File 000168股票数据.csv has been deleted.\n",
      "File 000169股票数据.csv has been deleted.\n",
      "File 000177股票数据.csv has been deleted.\n",
      "File 000178股票数据.csv has been deleted.\n",
      "File 000193股票数据.csv has been deleted.\n",
      "File 000202股票数据.csv has been deleted.\n",
      "File 000223股票数据.csv has been deleted.\n",
      "File 000224股票数据.csv has been deleted.\n",
      "File 000225股票数据.csv has been deleted.\n",
      "File 000233股票数据.csv has been deleted.\n",
      "File 000234股票数据.csv has been deleted.\n",
      "File 000237股票数据.csv has been deleted.\n",
      "File 000238股票数据.csv has been deleted.\n",
      "File 000256股票数据.csv has been deleted.\n",
      "File 000257股票数据.csv has been deleted.\n",
      "File 000258股票数据.csv has been deleted.\n",
      "File 000262股票数据.csv has been deleted.\n",
      "File 000291股票数据.csv has been deleted.\n",
      "File 000292股票数据.csv has been deleted.\n",
      "File 000293股票数据.csv has been deleted.\n",
      "File 000302股票数据.csv has been deleted.\n",
      "File 000303股票数据.csv has been deleted.\n",
      "File 000304股票数据.csv has been deleted.\n",
      "File 000315股票数据.csv has been deleted.\n",
      "File 000316股票数据.csv has been deleted.\n",
      "File 000317股票数据.csv has been deleted.\n",
      "File 000318股票数据.csv has been deleted.\n",
      "File 000321股票数据.csv has been deleted.\n",
      "File 000323股票数据.csv has been deleted.\n",
      "File 000337股票数据.csv has been deleted.\n",
      "File 000340股票数据.csv has been deleted.\n",
      "File 000344股票数据.csv has been deleted.\n",
      "File 000348股票数据.csv has been deleted.\n",
      "File 000349股票数据.csv has been deleted.\n",
      "File 000350股票数据.csv has been deleted.\n",
      "File 000353股票数据.csv has been deleted.\n",
      "File 000357股票数据.csv has been deleted.\n",
      "File 000358股票数据.csv has been deleted.\n",
      "File 000360股票数据.csv has been deleted.\n",
      "File 000361股票数据.csv has been deleted.\n",
      "File 000364股票数据.csv has been deleted.\n",
      "File 000365股票数据.csv has been deleted.\n",
      "File 000374股票数据.csv has been deleted.\n",
      "File 000375股票数据.csv has been deleted.\n",
      "File 000382股票数据.csv has been deleted.\n",
      "File 000383股票数据.csv has been deleted.\n",
      "File 000384股票数据.csv has been deleted.\n",
      "File 000387股票数据.csv has been deleted.\n",
      "File 000388股票数据.csv has been deleted.\n",
      "File 000391股票数据.csv has been deleted.\n",
      "File 000392股票数据.csv has been deleted.\n",
      "File 000393股票数据.csv has been deleted.\n",
      "File 000399股票数据.csv has been deleted.\n",
      "File 000427股票数据.csv has been deleted.\n",
      "File 000435股票数据.csv has been deleted.\n",
      "File 000437股票数据.csv has been deleted.\n",
      "File 000438股票数据.csv has been deleted.\n",
      "File 000440股票数据.csv has been deleted.\n",
      "File 000441股票数据.csv has been deleted.\n",
      "File 000442股票数据.csv has been deleted.\n",
      "File 000443股票数据.csv has been deleted.\n",
      "File 000444股票数据.csv has been deleted.\n",
      "File 000445股票数据.csv has been deleted.\n",
      "File 000446股票数据.csv has been deleted.\n",
      "File 000447股票数据.csv has been deleted.\n",
      "File 000448股票数据.csv has been deleted.\n",
      "File 000449股票数据.csv has been deleted.\n",
      "File 000450股票数据.csv has been deleted.\n",
      "File 000451股票数据.csv has been deleted.\n",
      "File 000453股票数据.csv has been deleted.\n",
      "File 000454股票数据.csv has been deleted.\n",
      "File 000455股票数据.csv has been deleted.\n",
      "File 000456股票数据.csv has been deleted.\n",
      "File 000460股票数据.csv has been deleted.\n",
      "File 000461股票数据.csv has been deleted.\n",
      "File 000466股票数据.csv has been deleted.\n",
      "File 000467股票数据.csv has been deleted.\n",
      "File 000468股票数据.csv has been deleted.\n",
      "File 000473股票数据.csv has been deleted.\n",
      "File 000474股票数据.csv has been deleted.\n",
      "File 000479股票数据.csv has been deleted.\n",
      "File 000482股票数据.csv has been deleted.\n",
      "File 000485股票数据.csv has been deleted.\n",
      "File 000486股票数据.csv has been deleted.\n",
      "File 000491股票数据.csv has been deleted.\n",
      "File 000492股票数据.csv has been deleted.\n",
      "File 000499股票数据.csv has been deleted.\n",
      "File 000500股票数据.csv has been deleted.\n",
      "File 000643股票数据.csv has been deleted.\n",
      "File 000749股票数据.csv has been deleted.\n",
      "File 000770股票数据.csv has been deleted.\n",
      "File 000774股票数据.csv has been deleted.\n",
      "File 000775股票数据.csv has been deleted.\n",
      "File 000781股票数据.csv has been deleted.\n",
      "File 000864股票数据.csv has been deleted.\n",
      "File 000947股票数据.csv has been deleted.\n"
     ]
    }
   ],
   "source": [
    "import os  \n",
    "  \n",
    "# 获取当前工作目录  \n",
    "directory = os.getcwd()  \n",
    "  \n",
    "# 待删除的csv文件名列表  \n",
    "files_to_delete = [ \"000087\", \"000144\", \"000163\", \"000168\", \"000169\",  \n",
    "    \"000177\", \"000178\", \"000193\", \"000202\", \"000223\",  \n",
    "    \"000224\", \"000225\", \"000233\", \"000234\", \"000237\",  \n",
    "    \"000238\", \"000256\", \"000257\", \"000258\", \"000262\",  \n",
    "    \"000291\", \"000292\", \"000293\", \"000302\", \"000303\",  \n",
    "    \"000304\", \"000315\", \"000316\", \"000317\", \"000318\",  \n",
    "    \"000321\", \"000323\", \"000337\", \"000340\", \"000344\",  \n",
    "    \"000348\", \"000349\", \"000350\", \"000353\", \"000357\",  \n",
    "    \"000358\", \"000360\", \"000361\", \"000364\", \"000365\",  \n",
    "    \"000374\", \"000375\", \"000382\", \"000383\", \"000384\",  \n",
    "    \"000387\", \"000388\", \"000391\", \"000392\", \"000393\",  \n",
    "    \"000399\", \"000427\",\"000435\",  \"000437\", \"000438\", \"000440\", \"000441\", \"000442\",  \n",
    "    \"000443\", \"000444\", \"000445\", \"000446\", \"000447\",  \n",
    "    \"000448\", \"000449\", \"000450\", \"000451\", \"000453\",  \n",
    "    \"000454\", \"000455\", \"000456\", \"000460\", \"000461\",  \n",
    "    \"000466\", \"000467\", \"000468\", \"000473\", \"000474\",  \n",
    "    \"000479\", \"000482\", \"000485\", \"000486\", \"000491\",  \n",
    "    \"000492\", \"000499\", \"000500\", \"000643\", \"000749\",  \"000770\",  \n",
    "    \"000774\",  \n",
    "    \"000775\",  \n",
    "    \"000781\",  \n",
    "    \"000864\",  \n",
    "    \"000947\" ]\n",
    "files_to_delete = [i+\"股票数据.csv\" for i in files_to_delete]\n",
    "  \n",
    "# 遍历文件夹中的文件  \n",
    "for filename in os.listdir(directory):  \n",
    "    if filename in files_to_delete:  \n",
    "        # 如果文件名在待删除列表中，删除该文件  \n",
    "        os.remove(os.path.join(directory, filename))  \n",
    "        print(f\"File {filename} has been deleted.\")"
   ]
  },
  {
   "cell_type": "code",
   "execution_count": null,
   "metadata": {},
   "outputs": [],
   "source": []
  }
 ],
 "metadata": {
  "kernelspec": {
   "display_name": "base",
   "language": "python",
   "name": "python3"
  },
  "language_info": {
   "codemirror_mode": {
    "name": "ipython",
    "version": 3
   },
   "file_extension": ".py",
   "mimetype": "text/x-python",
   "name": "python",
   "nbconvert_exporter": "python",
   "pygments_lexer": "ipython3",
   "version": "3.10.9"
  }
 },
 "nbformat": 4,
 "nbformat_minor": 2
}
