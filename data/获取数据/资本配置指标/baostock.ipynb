{
 "cells": [
  {
   "cell_type": "code",
   "execution_count": 2,
   "metadata": {},
   "outputs": [
    {
     "name": "stdout",
     "output_type": "stream",
     "text": [
      "hello\n"
     ]
    }
   ],
   "source": [
    "print(\"hello\")"
   ]
  },
  {
   "cell_type": "code",
   "execution_count": 4,
   "metadata": {},
   "outputs": [
    {
     "name": "stdout",
     "output_type": "stream",
     "text": [
      "login success!\n",
      "login respond error_code:0\n",
      "login respond  error_msg:success\n",
      "query_stock_industry error_code:0\n",
      "query_stock_industry respond  error_msg:success\n",
      "      updateDate       code code_name industry industryClassification\n",
      "0     2023-10-30  sh.600000      浦发银行       银行                 申万一级行业\n",
      "1     2023-10-30  sh.600001      邯郸钢铁                          申万一级行业\n",
      "2     2023-10-30  sh.600002      齐鲁石化                          申万一级行业\n",
      "3     2023-10-30  sh.600003     ST东北高                          申万一级行业\n",
      "4     2023-10-30  sh.600004      白云机场     交通运输                 申万一级行业\n",
      "...          ...        ...       ...      ...                    ...\n",
      "5300  2023-10-30  sz.301533      威马农机                          申万一级行业\n",
      "5301  2023-10-30  sz.301548      崇德科技                          申万一级行业\n",
      "5302  2023-10-30  sz.301550      斯菱股份                          申万一级行业\n",
      "5303  2023-10-30  sz.301558      三态股份                          申万一级行业\n",
      "5304  2023-10-30  sz.301559      中集环科                          申万一级行业\n",
      "\n",
      "[5305 rows x 5 columns]\n",
      "logout success!\n"
     ]
    },
    {
     "data": {
      "text/plain": [
       "<baostock.data.resultset.ResultData at 0x253d14d3fd0>"
      ]
     },
     "execution_count": 4,
     "metadata": {},
     "output_type": "execute_result"
    }
   ],
   "source": [
    "import baostock as bs\n",
    "import pandas as pd\n",
    "\n",
    "# 登陆系统\n",
    "lg = bs.login()\n",
    "# 显示登陆返回信息\n",
    "print('login respond error_code:'+lg.error_code)\n",
    "print('login respond  error_msg:'+lg.error_msg)\n",
    "\n",
    "# 获取行业分类数据\n",
    "rs = bs.query_stock_industry()\n",
    "# rs = bs.query_stock_basic(code_name=\"浦发银行\")\n",
    "print('query_stock_industry error_code:'+rs.error_code)\n",
    "print('query_stock_industry respond  error_msg:'+rs.error_msg)\n",
    "\n",
    "# 打印结果集\n",
    "industry_list = []\n",
    "while (rs.error_code == '0') & rs.next():\n",
    "    # 获取一条记录，将记录合并在一起\n",
    "    industry_list.append(rs.get_row_data())\n",
    "result = pd.DataFrame(industry_list, columns=rs.fields)\n",
    "# 结果集输出到csv文件\n",
    "result.to_csv(\"stock_industry.csv\", encoding=\"gbk\", index=False)\n",
    "print(result)\n",
    "\n",
    "# 登出系统\n",
    "bs.logout()"
   ]
  },
  {
   "cell_type": "code",
   "execution_count": null,
   "metadata": {},
   "outputs": [],
   "source": []
  },
  {
   "cell_type": "code",
   "execution_count": null,
   "metadata": {},
   "outputs": [],
   "source": []
  },
  {
   "cell_type": "code",
   "execution_count": null,
   "metadata": {},
   "outputs": [],
   "source": []
  }
 ],
 "metadata": {
  "kernelspec": {
   "display_name": "base",
   "language": "python",
   "name": "python3"
  },
  "language_info": {
   "codemirror_mode": {
    "name": "ipython",
    "version": 3
   },
   "file_extension": ".py",
   "mimetype": "text/x-python",
   "name": "python",
   "nbconvert_exporter": "python",
   "pygments_lexer": "ipython3",
   "version": "3.10.9"
  }
 },
 "nbformat": 4,
 "nbformat_minor": 2
}
