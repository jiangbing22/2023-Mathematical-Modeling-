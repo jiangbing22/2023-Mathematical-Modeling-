{
 "cells": [
  {
   "cell_type": "code",
   "execution_count": 1,
   "metadata": {},
   "outputs": [
    {
     "name": "stdout",
     "output_type": "stream",
     "text": [
      "hello \n"
     ]
    }
   ],
   "source": [
    "print(\"hello \")"
   ]
  },
  {
   "cell_type": "code",
   "execution_count": 2,
   "metadata": {},
   "outputs": [
    {
     "name": "stdout",
     "output_type": "stream",
     "text": [
      "Requirement already satisfied: efinance in d:\\anaconda\\lib\\site-packages (0.5.0)\n",
      "Requirement already satisfied: requests in d:\\anaconda\\lib\\site-packages (from efinance) (2.28.1)\n",
      "Requirement already satisfied: tqdm in d:\\anaconda\\lib\\site-packages (from efinance) (4.64.1)\n",
      "Requirement already satisfied: retry in d:\\anaconda\\lib\\site-packages (from efinance) (0.9.2)\n",
      "Requirement already satisfied: jsonpath in d:\\anaconda\\lib\\site-packages (from efinance) (0.82.2)\n",
      "Requirement already satisfied: rich in d:\\anaconda\\lib\\site-packages (from efinance) (13.6.0)\n",
      "Requirement already satisfied: multitasking in d:\\anaconda\\lib\\site-packages (from efinance) (0.0.11)\n",
      "Requirement already satisfied: pandas in d:\\anaconda\\lib\\site-packages (from efinance) (1.5.3)\n",
      "Requirement already satisfied: pytz>=2020.1 in d:\\anaconda\\lib\\site-packages (from pandas->efinance) (2022.7)\n",
      "Requirement already satisfied: python-dateutil>=2.8.1 in d:\\anaconda\\lib\\site-packages (from pandas->efinance) (2.8.2)\n",
      "Requirement already satisfied: numpy>=1.21.0 in d:\\anaconda\\lib\\site-packages (from pandas->efinance) (1.23.5)\n",
      "Requirement already satisfied: urllib3<1.27,>=1.21.1 in d:\\anaconda\\lib\\site-packages (from requests->efinance) (1.26.14)\n",
      "Requirement already satisfied: certifi>=2017.4.17 in d:\\anaconda\\lib\\site-packages (from requests->efinance) (2022.12.7)\n",
      "Requirement already satisfied: idna<4,>=2.5 in d:\\anaconda\\lib\\site-packages (from requests->efinance) (3.4)\n",
      "Requirement already satisfied: charset-normalizer<3,>=2 in d:\\anaconda\\lib\\site-packages (from requests->efinance) (2.0.4)\n",
      "Requirement already satisfied: decorator>=3.4.2 in d:\\anaconda\\lib\\site-packages (from retry->efinance) (5.1.1)\n",
      "Requirement already satisfied: py<2.0.0,>=1.4.26 in d:\\anaconda\\lib\\site-packages (from retry->efinance) (1.11.0)\n",
      "Requirement already satisfied: pygments<3.0.0,>=2.13.0 in d:\\anaconda\\lib\\site-packages (from rich->efinance) (2.16.1)\n",
      "Requirement already satisfied: markdown-it-py>=2.2.0 in d:\\anaconda\\lib\\site-packages (from rich->efinance) (3.0.0)\n",
      "Requirement already satisfied: colorama in d:\\anaconda\\lib\\site-packages (from tqdm->efinance) (0.4.6)\n",
      "Requirement already satisfied: mdurl~=0.1 in d:\\anaconda\\lib\\site-packages (from markdown-it-py>=2.2.0->rich->efinance) (0.1.2)\n",
      "Requirement already satisfied: six>=1.5 in d:\\anaconda\\lib\\site-packages (from python-dateutil>=2.8.1->pandas->efinance) (1.16.0)\n"
     ]
    }
   ],
   "source": [
    "!pip install efinance"
   ]
  },
  {
   "cell_type": "code",
   "execution_count": 3,
   "metadata": {},
   "outputs": [
    {
     "name": "stdout",
     "output_type": "stream",
     "text": [
      "Requirement already satisfied: efinance in d:\\anaconda\\lib\\site-packages (0.5.0)\n",
      "Requirement already satisfied: rich in d:\\anaconda\\lib\\site-packages (from efinance) (13.6.0)\n",
      "Requirement already satisfied: requests in d:\\anaconda\\lib\\site-packages (from efinance) (2.28.1)\n",
      "Requirement already satisfied: jsonpath in d:\\anaconda\\lib\\site-packages (from efinance) (0.82.2)\n",
      "Requirement already satisfied: retry in d:\\anaconda\\lib\\site-packages (from efinance) (0.9.2)\n",
      "Requirement already satisfied: pandas in d:\\anaconda\\lib\\site-packages (from efinance) (1.5.3)\n",
      "Requirement already satisfied: tqdm in d:\\anaconda\\lib\\site-packages (from efinance) (4.64.1)\n",
      "Requirement already satisfied: multitasking in d:\\anaconda\\lib\\site-packages (from efinance) (0.0.11)\n",
      "Requirement already satisfied: pytz>=2020.1 in d:\\anaconda\\lib\\site-packages (from pandas->efinance) (2022.7)\n",
      "Requirement already satisfied: numpy>=1.21.0 in d:\\anaconda\\lib\\site-packages (from pandas->efinance) (1.23.5)\n",
      "Requirement already satisfied: python-dateutil>=2.8.1 in d:\\anaconda\\lib\\site-packages (from pandas->efinance) (2.8.2)\n",
      "Requirement already satisfied: certifi>=2017.4.17 in d:\\anaconda\\lib\\site-packages (from requests->efinance) (2022.12.7)\n",
      "Requirement already satisfied: idna<4,>=2.5 in d:\\anaconda\\lib\\site-packages (from requests->efinance) (3.4)\n",
      "Requirement already satisfied: urllib3<1.27,>=1.21.1 in d:\\anaconda\\lib\\site-packages (from requests->efinance) (1.26.14)\n",
      "Requirement already satisfied: charset-normalizer<3,>=2 in d:\\anaconda\\lib\\site-packages (from requests->efinance) (2.0.4)\n",
      "Requirement already satisfied: decorator>=3.4.2 in d:\\anaconda\\lib\\site-packages (from retry->efinance) (5.1.1)\n",
      "Requirement already satisfied: py<2.0.0,>=1.4.26 in d:\\anaconda\\lib\\site-packages (from retry->efinance) (1.11.0)\n",
      "Requirement already satisfied: pygments<3.0.0,>=2.13.0 in d:\\anaconda\\lib\\site-packages (from rich->efinance) (2.16.1)\n",
      "Requirement already satisfied: markdown-it-py>=2.2.0 in d:\\anaconda\\lib\\site-packages (from rich->efinance) (3.0.0)\n",
      "Requirement already satisfied: colorama in d:\\anaconda\\lib\\site-packages (from tqdm->efinance) (0.4.6)\n",
      "Requirement already satisfied: mdurl~=0.1 in d:\\anaconda\\lib\\site-packages (from markdown-it-py>=2.2.0->rich->efinance) (0.1.2)\n",
      "Requirement already satisfied: six>=1.5 in d:\\anaconda\\lib\\site-packages (from python-dateutil>=2.8.1->pandas->efinance) (1.16.0)\n"
     ]
    }
   ],
   "source": [
    "!pip install efinance --upgrade"
   ]
  },
  {
   "cell_type": "code",
   "execution_count": 4,
   "metadata": {},
   "outputs": [
    {
     "data": {
      "text/plain": [
       "股票代码                  600519\n",
       "股票名称                    贵州茅台\n",
       "净利润       52876217064.120003\n",
       "总市值          2275275703272.0\n",
       "流通市值         2275275703272.0\n",
       "所处行业                    酿酒行业\n",
       "市盈率(动)                 32.27\n",
       "市净率                    10.45\n",
       "ROE                    24.82\n",
       "毛利率                91.707471\n",
       "净利率                53.091939\n",
       "板块编号                  BK0477\n",
       "dtype: object"
      ]
     },
     "execution_count": 4,
     "metadata": {},
     "output_type": "execute_result"
    }
   ],
   "source": [
    "import efinance as ef\n",
    "stock_code = '600519'\n",
    "series = ef.stock.get_base_info(stock_code)\n",
    "series"
   ]
  },
  {
   "cell_type": "code",
   "execution_count": 6,
   "metadata": {},
   "outputs": [
    {
     "data": {
      "text/html": [
       "<div>\n",
       "<style scoped>\n",
       "    .dataframe tbody tr th:only-of-type {\n",
       "        vertical-align: middle;\n",
       "    }\n",
       "\n",
       "    .dataframe tbody tr th {\n",
       "        vertical-align: top;\n",
       "    }\n",
       "\n",
       "    .dataframe thead th {\n",
       "        text-align: right;\n",
       "    }\n",
       "</style>\n",
       "<table border=\"1\" class=\"dataframe\">\n",
       "  <thead>\n",
       "    <tr style=\"text-align: right;\">\n",
       "      <th></th>\n",
       "      <th>股票代码</th>\n",
       "      <th>股票名称</th>\n",
       "      <th>涨跌幅</th>\n",
       "      <th>最新价</th>\n",
       "      <th>最高</th>\n",
       "      <th>最低</th>\n",
       "      <th>今开</th>\n",
       "      <th>涨跌额</th>\n",
       "      <th>换手率</th>\n",
       "      <th>量比</th>\n",
       "      <th>动态市盈率</th>\n",
       "      <th>成交量</th>\n",
       "      <th>成交额</th>\n",
       "      <th>昨日收盘</th>\n",
       "      <th>总市值</th>\n",
       "      <th>流通市值</th>\n",
       "      <th>行情ID</th>\n",
       "      <th>市场类型</th>\n",
       "      <th>更新时间</th>\n",
       "      <th>最新交易日</th>\n",
       "    </tr>\n",
       "  </thead>\n",
       "  <tbody>\n",
       "    <tr>\n",
       "      <th>0</th>\n",
       "      <td>001376</td>\n",
       "      <td>N百通</td>\n",
       "      <td>753.07</td>\n",
       "      <td>38.9</td>\n",
       "      <td>49.4</td>\n",
       "      <td>27.01</td>\n",
       "      <td>38.0</td>\n",
       "      <td>34.34</td>\n",
       "      <td>84.29</td>\n",
       "      <td>-</td>\n",
       "      <td>133.78</td>\n",
       "      <td>388488</td>\n",
       "      <td>1389924148.82</td>\n",
       "      <td>4.56</td>\n",
       "      <td>17929010000</td>\n",
       "      <td>1792901000</td>\n",
       "      <td>0.001376</td>\n",
       "      <td>深A</td>\n",
       "      <td>2023-11-03 15:34:42</td>\n",
       "      <td>2023-11-03</td>\n",
       "    </tr>\n",
       "    <tr>\n",
       "      <th>1</th>\n",
       "      <td>871478</td>\n",
       "      <td>巨能股份</td>\n",
       "      <td>30.0</td>\n",
       "      <td>13.65</td>\n",
       "      <td>13.65</td>\n",
       "      <td>11.0</td>\n",
       "      <td>11.52</td>\n",
       "      <td>3.15</td>\n",
       "      <td>26.38</td>\n",
       "      <td>5.1</td>\n",
       "      <td>67.6</td>\n",
       "      <td>52235</td>\n",
       "      <td>68022584.65</td>\n",
       "      <td>10.5</td>\n",
       "      <td>1043939674</td>\n",
       "      <td>270270000</td>\n",
       "      <td>0.871478</td>\n",
       "      <td>深A</td>\n",
       "      <td>2023-11-03 15:33:11</td>\n",
       "      <td>2023-11-03</td>\n",
       "    </tr>\n",
       "    <tr>\n",
       "      <th>2</th>\n",
       "      <td>300503</td>\n",
       "      <td>昊志机电</td>\n",
       "      <td>20.03</td>\n",
       "      <td>16.18</td>\n",
       "      <td>16.18</td>\n",
       "      <td>14.67</td>\n",
       "      <td>14.68</td>\n",
       "      <td>2.7</td>\n",
       "      <td>22.22</td>\n",
       "      <td>2.51</td>\n",
       "      <td>-124.02</td>\n",
       "      <td>468144</td>\n",
       "      <td>727625425.22</td>\n",
       "      <td>13.48</td>\n",
       "      <td>4952258486</td>\n",
       "      <td>3408798064</td>\n",
       "      <td>0.300503</td>\n",
       "      <td>深A</td>\n",
       "      <td>2023-11-03 15:34:24</td>\n",
       "      <td>2023-11-03</td>\n",
       "    </tr>\n",
       "    <tr>\n",
       "      <th>3</th>\n",
       "      <td>300042</td>\n",
       "      <td>朗科科技</td>\n",
       "      <td>20.0</td>\n",
       "      <td>31.32</td>\n",
       "      <td>31.32</td>\n",
       "      <td>26.03</td>\n",
       "      <td>26.1</td>\n",
       "      <td>5.22</td>\n",
       "      <td>15.21</td>\n",
       "      <td>3.41</td>\n",
       "      <td>-127.92</td>\n",
       "      <td>276275</td>\n",
       "      <td>818535111.32</td>\n",
       "      <td>26.1</td>\n",
       "      <td>6276528000</td>\n",
       "      <td>5687932242</td>\n",
       "      <td>0.300042</td>\n",
       "      <td>深A</td>\n",
       "      <td>2023-11-03 15:34:12</td>\n",
       "      <td>2023-11-03</td>\n",
       "    </tr>\n",
       "    <tr>\n",
       "      <th>4</th>\n",
       "      <td>301368</td>\n",
       "      <td>丰立智能</td>\n",
       "      <td>19.99</td>\n",
       "      <td>42.85</td>\n",
       "      <td>42.85</td>\n",
       "      <td>39.82</td>\n",
       "      <td>40.0</td>\n",
       "      <td>7.14</td>\n",
       "      <td>32.71</td>\n",
       "      <td>4.86</td>\n",
       "      <td>130.36</td>\n",
       "      <td>98453</td>\n",
       "      <td>414260041.78</td>\n",
       "      <td>35.71</td>\n",
       "      <td>5146285000</td>\n",
       "      <td>1289783029</td>\n",
       "      <td>0.301368</td>\n",
       "      <td>深A</td>\n",
       "      <td>2023-11-03 15:34:33</td>\n",
       "      <td>2023-11-03</td>\n",
       "    </tr>\n",
       "  </tbody>\n",
       "</table>\n",
       "</div>"
      ],
      "text/plain": [
       "     股票代码  股票名称     涨跌幅    最新价     最高     最低     今开    涨跌额    换手率    量比  \\\n",
       "0  001376   N百通  753.07   38.9   49.4  27.01   38.0  34.34  84.29     -   \n",
       "1  871478  巨能股份    30.0  13.65  13.65   11.0  11.52   3.15  26.38   5.1   \n",
       "2  300503  昊志机电   20.03  16.18  16.18  14.67  14.68    2.7  22.22  2.51   \n",
       "3  300042  朗科科技    20.0  31.32  31.32  26.03   26.1   5.22  15.21  3.41   \n",
       "4  301368  丰立智能   19.99  42.85  42.85  39.82   40.0   7.14  32.71  4.86   \n",
       "\n",
       "    动态市盈率     成交量            成交额   昨日收盘          总市值        流通市值      行情ID  \\\n",
       "0  133.78  388488  1389924148.82   4.56  17929010000  1792901000  0.001376   \n",
       "1    67.6   52235    68022584.65   10.5   1043939674   270270000  0.871478   \n",
       "2 -124.02  468144   727625425.22  13.48   4952258486  3408798064  0.300503   \n",
       "3 -127.92  276275   818535111.32   26.1   6276528000  5687932242  0.300042   \n",
       "4  130.36   98453   414260041.78  35.71   5146285000  1289783029  0.301368   \n",
       "\n",
       "  市场类型                 更新时间       最新交易日  \n",
       "0   深A  2023-11-03 15:34:42  2023-11-03  \n",
       "1   深A  2023-11-03 15:33:11  2023-11-03  \n",
       "2   深A  2023-11-03 15:34:24  2023-11-03  \n",
       "3   深A  2023-11-03 15:34:12  2023-11-03  \n",
       "4   深A  2023-11-03 15:34:33  2023-11-03  "
      ]
     },
     "execution_count": 6,
     "metadata": {},
     "output_type": "execute_result"
    }
   ],
   "source": [
    "df = ef.stock.get_realtime_quotes()\n",
    "df.head()"
   ]
  },
  {
   "cell_type": "code",
   "execution_count": 13,
   "metadata": {},
   "outputs": [
    {
     "name": "stdout",
     "output_type": "stream",
     "text": [
      "['300073', '600980', '600206', '000851', '600198', '600006', '600081', '000875', '000958', '600021', '600292', '002128', '600406', '600517', '600101', '600131', '000537', '600312', '000400', '600452', '000151', '601918', '600962', '600061', '600886', '600505', '000922', '000016', '000069', '002106', '601088', '600005', '600498', '000778', '601718', '000916', '601872', '000024', '000022', '600999', '600048', '002037', '600435', '600184', '000059', '600148', '000519', '002246', '600262', '600480', '600967', '600495', '600550', '600698', '600178', '600787', '600433', '600963', '000815', '600072', '600685', '600150', '600482', '601989', '600742', '002232', '000927', '000800', '601106', '002305', '601669', '600640', '600707', '600171', '000021', '000066', '000032', '000748', '600536', '600764', '000733', '000727', '600775', '600875', '600115', '600560', '000969', '300034', '603128', '000780', '000966', '600795', '000635', '300105', '601888', '600990', '600850', '600071', '002415', '600562', '002368', '600583', '000822', '601808', '600026', '002401', '600896', '601866', '600391', '600893', '600973', '000768', '600372', '300114', '600316', '000026', '000050', '002419', '000043', '002163', '600523', '600765', '600705', '600038', '601111', '002025', '000901', '600677', '600501', '600271', '600855', '000777', '601985', '000677', '000666', '600268', '600396', '601226', '002039', '600726', '600027', '000720', '600011', '600863', '600879', '300455', '300446', '600135', '603698', '600151', '600343', '600118', '000953', '600179', '600378', '600579', '000553', '600230', '600469', '600299', '000698', '600489', '600444', '600099', '600710', '002046', '002051', '600335', '601038', '600552', '600876', '002066', '002302', '601668', '000736', '601800', '300140', '601016', '601600', '000862', '000878', '600582', '600458', '601766', '000920', '002265', '600877', '002189', '002423', '000625', '600029', '600068', '600195', '000798', '600680', '600776', '002116', '000731', '000819', '000852', '600871', '600028', '600688', '000554', '000985', '601857', '601186', '601390', '600528', '600056', '601965', '600270', '000657', '600390', '000831', '600058', '601179', '600328', '000751', '601618', '600511', '600420', '000028', '600161', '000758', '000962', '600428', '601919', '600900', '000877', '600970', '600720', '002080', '603126', '600449', '000928', '600486', '000411', '600500', '601898', '600508', '000930', '000031', '600737', '000423', '000999', '600062', '600176', '000786']\n"
     ]
    }
   ],
   "source": [
    "# 假设文件名为\"stocks.txt\"  \n",
    "with open(\"国企.txt\", \"r\", encoding=\"utf-8\") as file:  \n",
    "    # 遍历文件的每一行  \n",
    "    lines = file.readlines()  \n",
    "    # 用于存储股票代码的列表  \n",
    "    stock_codes = []  \n",
    "      \n",
    "    for line in lines:  \n",
    "        # 去除零宽空格  \n",
    "        line = line.replace('\\u200b', '')  \n",
    "        # 检查是否为空白行  \n",
    "        if not line.strip():  \n",
    "            continue  \n",
    "        # 使用空格分割每一行的内容  \n",
    "        parts = line.split()  \n",
    "        # 提取股票代码，即第一部分  \n",
    "        stock_code = parts[0]  \n",
    "        # 添加到列表中  \n",
    "        stock_codes.append(stock_code)  \n",
    "  \n",
    "# 输出股票代码列表  \n",
    "print(stock_codes)\n",
    "\n",
    "# 将股票代码列表保存到新的txt文件  \n",
    "with open(\"国企企业股票代码.txt\", \"w\", encoding=\"utf-8\") as output_file:  \n",
    "    for code in stock_codes:  \n",
    "        output_file.write(code + '\\n')"
   ]
  },
  {
   "cell_type": "code",
   "execution_count": 18,
   "metadata": {},
   "outputs": [],
   "source": [
    "import os  \n",
    "  \n",
    "# 同级目录下的文件夹路径  \n",
    "folder_path = os.path.join(os.getcwd(), '国企20年数据')  \n",
    "  \n",
    "# 确保文件夹存在  \n",
    "if not os.path.exists(folder_path):  \n",
    "    os.makedirs(folder_path)  \n",
    "  \n",
    "beg = '20000101'\n",
    "end = '20231103'\n",
    "for i in stock_codes:\n",
    "    df = ef.stock.get_quote_history(i,beg = beg,end = end)\n",
    "    # DataFrame保存到文件夹下的Excel文件  \n",
    "    output_file = os.path.join(folder_path, i+'.xlsx')  \n",
    "    df.to_excel(output_file, index=False)"
   ]
  },
  {
   "cell_type": "code",
   "execution_count": null,
   "metadata": {},
   "outputs": [],
   "source": []
  }
 ],
 "metadata": {
  "kernelspec": {
   "display_name": "base",
   "language": "python",
   "name": "python3"
  },
  "language_info": {
   "codemirror_mode": {
    "name": "ipython",
    "version": 3
   },
   "file_extension": ".py",
   "mimetype": "text/x-python",
   "name": "python",
   "nbconvert_exporter": "python",
   "pygments_lexer": "ipython3",
   "version": "3.10.9"
  }
 },
 "nbformat": 4,
 "nbformat_minor": 2
}
