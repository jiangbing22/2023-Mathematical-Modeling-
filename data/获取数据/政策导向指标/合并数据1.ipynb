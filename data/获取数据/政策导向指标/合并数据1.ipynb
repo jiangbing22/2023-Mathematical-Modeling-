import os  
import pandas as pd  
  
# 读取“含有政府支持度的专题统计_实际控制人持股变动”文件  
main_df = pd.read_excel("含有政府支持度的专题统计_实际控制人持股变动.xlsx")  
# if 600019 in main_df['证券代码'].values:
#     print("1")

# print(int('000966'))
# if '600019' in main_df["证券代码"].values:  
#     print("hello")
# 遍历文件夹中的每个Excel文件  
folder_path = "非国企20年数据"  # 请替换为您的文件夹路径  
for filename in os.listdir(folder_path):  
    if filename.endswith(".xlsx"):  
        证券代码 = filename.split(".")[0]  # 假设文件名格式为“证券代码.xlsx”  
  
        # 判断证券代码是否在main_df中存在  
        if int(证券代码) in main_df["证券代码"].values:  
            # 存在，则提取对应行的数据  
            print('sb')
            target_row = main_df[main_df["证券代码"] == int(证券代码)].iloc[0]  # 使用.iloc[0]取第一行  
            target_row.name = 0  # 设置行索引为0，以便与目标DataFrame拼接  
  
            # 读取目标Excel文件  
            file_path = os.path.join(folder_path, filename)  
            target_df = pd.read_excel(file_path)  
  
            # 使用pd.concat进行横向拼接，将target_row添加到目标DataFrame的第一行后面  
            target_df = pd.concat([target_df.iloc[:1], target_row.to_frame().T, target_df.iloc[1:]], ignore_index=True)  
  
            # 写回Excel文件，index=False表示不写入行索引  
            target_df.to_excel(file_path, index=False)