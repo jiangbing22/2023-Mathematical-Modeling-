import os  
import pandas as pd  
import numpy as np  
  
# 指定存放Excel文件的文件夹路径  
folder_path = '非国企20年数据'  
  
# 初始化一个新的DataFrame，用于存储股票代码和对应的历史波动率  
volatility_df = pd.DataFrame(columns=['股票代码', '历史波动率'])  
  
# 遍历文件夹中的每个Excel文件  
for filename in os.listdir(folder_path):  
    if filename.endswith(".xlsx"):  
        file_path = os.path.join(folder_path, filename)  
  
        # 读取Excel文件为DataFrame对象  
        df = pd.read_excel(file_path, engine='openpyxl')
        
        # 确保数据按日期排序（如果需要）  
        df['日期'] = pd.to_datetime(df['日期'])  
  
        # 计算日收益率  
        df['日收益率'] = df['收盘'].pct_change()  
  
        # 计算历史波动率（日收益率的标准差）  
        historical_volatility = df['日收益率'].std()  
  
        # 将股票代码和对应的历史波动率添加到新的DataFrame中  
        volatility_df = volatility_df.append({  
            '股票代码': filename[:-5],  
            '历史波动率': historical_volatility  
        }, ignore_index=True)  
  
        print(f"股票代码：{filename[:-5]} 的历史波动率（日收益率的标准差）: {historical_volatility}")  
  
# 将存储了股票代码和对应历史波动率的新DataFrame保存为一个新的Excel文件  
volatility_df.to_excel('非国企20年数据历史波动率.xlsx', index=False)