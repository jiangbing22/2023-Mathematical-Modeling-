{
 "cells": [
  {
   "cell_type": "code",
   "execution_count": 11,
   "metadata": {},
   "outputs": [
    {
     "name": "stderr",
     "output_type": "stream",
     "text": [
      "C:\\Users\\lenovo\\AppData\\Local\\Temp\\ipykernel_22292\\4036485451.py:17: FutureWarning: The series.append method is deprecated and will be removed from pandas in a future version. Use pandas.concat instead.\n",
      "  avg = df['历史波动率'][start:i][::-1].append(df['历史波动率'][i+1:end]).mean()\n",
      "C:\\Users\\lenovo\\AppData\\Local\\Temp\\ipykernel_22292\\4036485451.py:20: SettingWithCopyWarning: \n",
      "A value is trying to be set on a copy of a slice from a DataFrame\n",
      "\n",
      "See the caveats in the documentation: https://pandas.pydata.org/pandas-docs/stable/user_guide/indexing.html#returning-a-view-versus-a-copy\n",
      "  df['历史波动率'][i] = avg\n"
     ]
    }
   ],
   "source": [
    "import pandas as pd    \n",
    "import numpy as np    \n",
    "  \n",
    "# 读取名为\"hahah\"的Excel表格  \n",
    "df = pd.read_excel('国企20年数据历史波动率.xlsx', engine='openpyxl')  \n",
    "  \n",
    "# 确保数据列名与你的代码相匹配，如果不匹配，你需要修改列名或代码中的引用  \n",
    "assert df.columns.tolist() == ['股票代码', '历史波动率']  \n",
    "  \n",
    "# 填充缺失值    \n",
    "window_size = 10    \n",
    "for i in range(1, len(df)):    \n",
    "    if np.isnan(df['历史波动率'][i]):    \n",
    "        # 计算活动平均窗口的平均值    \n",
    "        start = max(0, i - window_size // 2)    \n",
    "        end = min(len(df), i + window_size // 2 + 1)    \n",
    "        avg = df['历史波动率'][start:i][::-1].append(df['历史波动率'][i+1:end]).mean()    \n",
    "  \n",
    "        # 填充缺失值    \n",
    "        df['历史波动率'][i] = avg    \n",
    "  \n",
    "\n",
    "df.to_excel('测试.xlsx', index=False)\n"
   ]
  },
  {
   "cell_type": "code",
   "execution_count": null,
   "metadata": {},
   "outputs": [],
   "source": []
  },
  {
   "cell_type": "markdown",
   "metadata": {},
   "source": []
  },
  {
   "cell_type": "code",
   "execution_count": 7,
   "metadata": {},
   "outputs": [
    {
     "name": "stdout",
     "output_type": "stream",
     "text": [
      "川川\n",
      "上海\n",
      "2000\n"
     ]
    }
   ],
   "source": []
  },
  {
   "cell_type": "code",
   "execution_count": null,
   "metadata": {},
   "outputs": [],
   "source": []
  }
 ],
 "metadata": {
  "kernelspec": {
   "display_name": "base",
   "language": "python",
   "name": "python3"
  },
  "language_info": {
   "codemirror_mode": {
    "name": "ipython",
    "version": 3
   },
   "file_extension": ".py",
   "mimetype": "text/x-python",
   "name": "python",
   "nbconvert_exporter": "python",
   "pygments_lexer": "ipython3",
   "version": "3.10.9"
  }
 },
 "nbformat": 4,
 "nbformat_minor": 2
}
